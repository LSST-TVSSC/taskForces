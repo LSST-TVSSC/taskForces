{
 "cells": [
  {
   "cell_type": "code",
   "execution_count": 32,
   "metadata": {
    "ExecuteTime": {
     "end_time": "2018-02-03T11:00:46.537149",
     "start_time": "2018-02-03T11:00:46.532916"
    },
    "collapsed": false,
    "run_control": {
     "frozen": false,
     "read_only": false
    }
   },
   "outputs": [],
   "source": [
    "from __future__ import print_function\n",
    "import pylab as pl\n",
    "import pandas as pd\n",
    "import numpy as np"
   ]
  },
  {
   "cell_type": "code",
   "execution_count": 115,
   "metadata": {
    "ExecuteTime": {
     "end_time": "2018-02-03T11:41:48.233555",
     "start_time": "2018-02-03T11:41:48.228108"
    },
    "collapsed": false
   },
   "outputs": [
    {
     "data": {
      "text/plain": [
       "'__author__ : FBB, Feb 2018'"
      ]
     },
     "execution_count": 115,
     "metadata": {},
     "output_type": "execute_result"
    }
   ],
   "source": [
    "'__author__ : FBB, Feb 2018'"
   ]
  },
  {
   "cell_type": "markdown",
   "metadata": {},
   "source": [
    "** notebook to reading the responses to the task force survey and deciding which task forces should be activated.**\n",
    "\n",
    "**12 task forces were proposed. possible answerese were \"good idea\" and \"I am willing to work on it\", not mutually exclusive**"
   ]
  },
  {
   "cell_type": "markdown",
   "metadata": {},
   "source": [
    "# read in survey response"
   ]
  },
  {
   "cell_type": "code",
   "execution_count": 116,
   "metadata": {
    "ExecuteTime": {
     "end_time": "2018-02-03T11:43:25.836490",
     "start_time": "2018-02-03T11:43:25.827275"
    },
    "collapsed": false,
    "run_control": {
     "frozen": false,
     "read_only": false
    }
   },
   "outputs": [],
   "source": [
    "responses = pd.read_csv(\"TVS Task Force sign up.csv\")"
   ]
  },
  {
   "cell_type": "code",
   "execution_count": 117,
   "metadata": {
    "ExecuteTime": {
     "end_time": "2018-02-03T11:43:26.064774",
     "start_time": "2018-02-03T11:43:26.060933"
    },
    "collapsed": false,
    "run_control": {
     "frozen": false,
     "read_only": false
    }
   },
   "outputs": [],
   "source": [
    "tfs = responses.columns[2:]"
   ]
  },
  {
   "cell_type": "code",
   "execution_count": 118,
   "metadata": {
    "ExecuteTime": {
     "end_time": "2018-02-03T11:43:26.716470",
     "start_time": "2018-02-03T11:43:26.700267"
    },
    "collapsed": false
   },
   "outputs": [
    {
     "data": {
      "text/plain": [
       "0     Good idea;I am willing to contribute\n",
       "1     Good idea;I am willing to contribute\n",
       "2                                Good idea\n",
       "3     Good idea;I am willing to contribute\n",
       "4     Good idea;I am willing to contribute\n",
       "5     Good idea;I am willing to contribute\n",
       "6     Good idea;I am willing to contribute\n",
       "7                                      NaN\n",
       "8     Good idea;I am willing to contribute\n",
       "9                                      NaN\n",
       "10    Good idea;I am willing to contribute\n",
       "11                               Good idea\n",
       "12                                     NaN\n",
       "13                               Good idea\n",
       "14    Good idea;I am willing to contribute\n",
       "15    Good idea;I am willing to contribute\n",
       "16    Good idea;I am willing to contribute\n",
       "17                               Good idea\n",
       "18              I am willing to contribute\n",
       "19                               Good idea\n",
       "20    Good idea;I am willing to contribute\n",
       "21                                     NaN\n",
       "22              I am willing to contribute\n",
       "23    Good idea;I am willing to contribute\n",
       "24                                     NaN\n",
       "25    Good idea;I am willing to contribute\n",
       "26    Good idea;I am willing to contribute\n",
       "27              I am willing to contribute\n",
       "28              I am willing to contribute\n",
       "29              I am willing to contribute\n",
       "30              I am willing to contribute\n",
       "31    Good idea;I am willing to contribute\n",
       "32    Good idea;I am willing to contribute\n",
       "33              I am willing to contribute\n",
       "34              I am willing to contribute\n",
       "35              I am willing to contribute\n",
       "36              I am willing to contribute\n",
       "37              I am willing to contribute\n",
       "38              I am willing to contribute\n",
       "39                                     NaN\n",
       "40                                     NaN\n",
       "41                                     NaN\n",
       "42                                     NaN\n",
       "43                                     NaN\n",
       "44              I am willing to contribute\n",
       "45                                     NaN\n",
       "46                               Good idea\n",
       "47    Good idea;I am willing to contribute\n",
       "48              I am willing to contribute\n",
       "49                               Good idea\n",
       "Name: DDT and Minisurvey proposals planning : task force aimed at identifying priorities and science cases to be included in fall 2018 Minisurvey DDT proposals, dtype: object"
      ]
     },
     "execution_count": 118,
     "metadata": {},
     "output_type": "execute_result"
    }
   ],
   "source": [
    "responses[tfs[0]]"
   ]
  },
  {
   "cell_type": "code",
   "execution_count": 119,
   "metadata": {
    "ExecuteTime": {
     "end_time": "2018-02-03T11:43:28.759204",
     "start_time": "2018-02-03T11:43:28.755157"
    },
    "collapsed": true
   },
   "outputs": [],
   "source": [
    "goodidea = np.zeros_like(tfs)\n",
    "willingness  =np.zeros_like(tfs)"
   ]
  },
  {
   "cell_type": "markdown",
   "metadata": {},
   "source": [
    "## count \"good idea\""
   ]
  },
  {
   "cell_type": "code",
   "execution_count": 70,
   "metadata": {
    "ExecuteTime": {
     "end_time": "2018-02-03T11:16:53.713487",
     "start_time": "2018-02-03T11:16:53.703905"
    },
    "collapsed": false
   },
   "outputs": [
    {
     "name": "stdout",
     "output_type": "stream",
     "text": [
      "good idea\n",
      "\n",
      "DDT and Minisurvey proposals planning : task 25\n",
      "Generate a TVS specific set of tutorials 26\n",
      "Characterize the functionality needed from a community-broker 18\n",
      "Review variability characterization parameters planned for the 16\n",
      "Weighting/priority for different classes of variable/transients for 24\n",
      "A one night movie of LMC: A 12\n",
      "Stellar variability in crowded fields : This 26\n",
      "Actively work on the TVS roadmap : 26\n",
      "Fast Transients: GRB, GW,.... may need specific 14\n",
      "Variability in Ultra-cool dwarf stars/Brown dwarfs : 4\n",
      "Galactic Compact Object Binaries (COBi): optimizing cadencing 9\n",
      "Target of Opportunities in the Multi-messenger GW 14\n"
     ]
    }
   ],
   "source": [
    "print (\"good idea\\n\")\n",
    "for i,tf in enumerate(tfs):\n",
    "    goodidea[i] = np.array([\"Good idea\" in  f  for f in responses[tf].values if not isinstance(f, float)]).sum()\n",
    "    print (' '.join(tf.split()[:7]), goodidea[i])"
   ]
  },
  {
   "cell_type": "markdown",
   "metadata": {},
   "source": [
    "## count \"willingness to work\""
   ]
  },
  {
   "cell_type": "code",
   "execution_count": 69,
   "metadata": {
    "ExecuteTime": {
     "end_time": "2018-02-03T11:16:42.560799",
     "start_time": "2018-02-03T11:16:42.551634"
    },
    "collapsed": false
   },
   "outputs": [
    {
     "name": "stdout",
     "output_type": "stream",
     "text": [
      "Willingness\n",
      "\n",
      "DDT and Minisurvey proposals planning : task 32\n",
      "Generate a TVS specific set of tutorials 4\n",
      "Characterize the functionality needed from a community-broker 7\n",
      "Review variability characterization parameters planned for the 14\n",
      "Weighting/priority for different classes of variable/transients for 6\n",
      "A one night movie of LMC: A 3\n",
      "Stellar variability in crowded fields : This 12\n",
      "Actively work on the TVS roadmap : 8\n",
      "Fast Transients: GRB, GW,.... may need specific 5\n",
      "Variability in Ultra-cool dwarf stars/Brown dwarfs : 1\n",
      "Galactic Compact Object Binaries (COBi): optimizing cadencing 2\n",
      "Target of Opportunities in the Multi-messenger GW 7\n"
     ]
    }
   ],
   "source": [
    "print (\"Willingness\\n\")\n",
    "for i,tf in enumerate(tfs):\n",
    "    willingness[i] = np.array([\"willing\" in  f  for f in responses[tf].values if not isinstance(f, float)]).sum()\n",
    "    print (' '.join(tf.split()[:7]), willingness[i])"
   ]
  },
  {
   "cell_type": "markdown",
   "metadata": {},
   "source": [
    "## add score for how broadly the taks force would affect TVS"
   ]
  },
  {
   "cell_type": "code",
   "execution_count": 75,
   "metadata": {
    "ExecuteTime": {
     "end_time": "2018-02-03T11:19:44.704327",
     "start_time": "2018-02-03T11:19:44.695201"
    },
    "collapsed": true
   },
   "outputs": [],
   "source": [
    "res = {}\n",
    "res[\"good\"] = goodidea\n",
    "res[\"will\"] = willingness\n",
    "res[\"reach\"] = [2] * 5 + [1] * 2 + [0] * 5\n",
    "res[\"tf\"] = [' '.join(tf.split()[:8]) for tf in tfs]"
   ]
  },
  {
   "cell_type": "code",
   "execution_count": 77,
   "metadata": {
    "ExecuteTime": {
     "end_time": "2018-02-03T11:19:46.173545",
     "start_time": "2018-02-03T11:19:46.164777"
    },
    "collapsed": false
   },
   "outputs": [],
   "source": [
    "resDF = pd.DataFrame.from_dict(res).set_index(\"tf\")"
   ]
  },
  {
   "cell_type": "markdown",
   "metadata": {},
   "source": [
    "# see how things rank in each feature\n",
    "## show sorted by how broadly affects TVS"
   ]
  },
  {
   "cell_type": "code",
   "execution_count": 90,
   "metadata": {
    "ExecuteTime": {
     "end_time": "2018-02-03T11:29:23.079697",
     "start_time": "2018-02-03T11:29:23.045427"
    },
    "collapsed": false
   },
   "outputs": [
    {
     "data": {
      "text/html": [
       "<div>\n",
       "<table border=\"1\" class=\"dataframe\">\n",
       "  <thead>\n",
       "    <tr style=\"text-align: right;\">\n",
       "      <th></th>\n",
       "      <th>good</th>\n",
       "      <th>reach</th>\n",
       "      <th>will</th>\n",
       "      <th>score</th>\n",
       "    </tr>\n",
       "    <tr>\n",
       "      <th>tf</th>\n",
       "      <th></th>\n",
       "      <th></th>\n",
       "      <th></th>\n",
       "      <th></th>\n",
       "    </tr>\n",
       "  </thead>\n",
       "  <tbody>\n",
       "    <tr>\n",
       "      <th>DDT and Minisurvey proposals planning : task force</th>\n",
       "      <td>25</td>\n",
       "      <td>2</td>\n",
       "      <td>32</td>\n",
       "      <td>43.5</td>\n",
       "    </tr>\n",
       "    <tr>\n",
       "      <th>Generate a TVS specific set of tutorials for</th>\n",
       "      <td>26</td>\n",
       "      <td>2</td>\n",
       "      <td>4</td>\n",
       "      <td>15.8</td>\n",
       "    </tr>\n",
       "    <tr>\n",
       "      <th>Characterize the functionality needed from a community-broker interface</th>\n",
       "      <td>18</td>\n",
       "      <td>2</td>\n",
       "      <td>7</td>\n",
       "      <td>16.4</td>\n",
       "    </tr>\n",
       "    <tr>\n",
       "      <th>Review variability characterization parameters planned for the Level</th>\n",
       "      <td>16</td>\n",
       "      <td>2</td>\n",
       "      <td>14</td>\n",
       "      <td>22.8</td>\n",
       "    </tr>\n",
       "    <tr>\n",
       "      <th>Weighting/priority for different classes of variable/transients for Minisurvey</th>\n",
       "      <td>24</td>\n",
       "      <td>2</td>\n",
       "      <td>6</td>\n",
       "      <td>17.2</td>\n",
       "    </tr>\n",
       "    <tr>\n",
       "      <th>A one night movie of LMC: A highly</th>\n",
       "      <td>12</td>\n",
       "      <td>1</td>\n",
       "      <td>3</td>\n",
       "      <td>8.6</td>\n",
       "    </tr>\n",
       "    <tr>\n",
       "      <th>Stellar variability in crowded fields : This includes</th>\n",
       "      <td>26</td>\n",
       "      <td>1</td>\n",
       "      <td>12</td>\n",
       "      <td>21.8</td>\n",
       "    </tr>\n",
       "    <tr>\n",
       "      <th>Actively work on the TVS roadmap : each</th>\n",
       "      <td>26</td>\n",
       "      <td>0</td>\n",
       "      <td>8</td>\n",
       "      <td>15.8</td>\n",
       "    </tr>\n",
       "    <tr>\n",
       "      <th>Fast Transients: GRB, GW,.... may need specific attention,</th>\n",
       "      <td>14</td>\n",
       "      <td>0</td>\n",
       "      <td>5</td>\n",
       "      <td>9.2</td>\n",
       "    </tr>\n",
       "    <tr>\n",
       "      <th>Variability in Ultra-cool dwarf stars/Brown dwarfs : Population</th>\n",
       "      <td>4</td>\n",
       "      <td>0</td>\n",
       "      <td>1</td>\n",
       "      <td>2.2</td>\n",
       "    </tr>\n",
       "    <tr>\n",
       "      <th>Galactic Compact Object Binaries (COBi): optimizing cadencing strategies</th>\n",
       "      <td>9</td>\n",
       "      <td>0</td>\n",
       "      <td>2</td>\n",
       "      <td>4.7</td>\n",
       "    </tr>\n",
       "    <tr>\n",
       "      <th>Target of Opportunities in the Multi-messenger GW era:</th>\n",
       "      <td>14</td>\n",
       "      <td>0</td>\n",
       "      <td>7</td>\n",
       "      <td>11.2</td>\n",
       "    </tr>\n",
       "  </tbody>\n",
       "</table>\n",
       "</div>"
      ],
      "text/plain": [
       "                                                   good  reach will score\n",
       "tf                                                                       \n",
       "DDT and Minisurvey proposals planning : task force   25      2   32  43.5\n",
       "Generate a TVS specific set of tutorials for         26      2    4  15.8\n",
       "Characterize the functionality needed from a co...   18      2    7  16.4\n",
       "Review variability characterization parameters ...   16      2   14  22.8\n",
       "Weighting/priority for different classes of var...   24      2    6  17.2\n",
       "A one night movie of LMC: A highly                   12      1    3   8.6\n",
       "Stellar variability in crowded fields : This in...   26      1   12  21.8\n",
       "Actively work on the TVS roadmap : each              26      0    8  15.8\n",
       "Fast Transients: GRB, GW,.... may need specific...   14      0    5   9.2\n",
       "Variability in Ultra-cool dwarf stars/Brown dwa...    4      0    1   2.2\n",
       "Galactic Compact Object Binaries (COBi): optimi...    9      0    2   4.7\n",
       "Target of Opportunities in the Multi-messenger ...   14      0    7  11.2"
      ]
     },
     "execution_count": 90,
     "metadata": {},
     "output_type": "execute_result"
    }
   ],
   "source": [
    "resDF.sort_values(\"reach\", ascending=False)"
   ]
  },
  {
   "cell_type": "markdown",
   "metadata": {},
   "source": [
    "## show sorted by \"good idea\""
   ]
  },
  {
   "cell_type": "code",
   "execution_count": 78,
   "metadata": {
    "ExecuteTime": {
     "end_time": "2018-02-03T11:19:47.069247",
     "start_time": "2018-02-03T11:19:46.977947"
    },
    "collapsed": false
   },
   "outputs": [
    {
     "data": {
      "text/html": [
       "<div>\n",
       "<table border=\"1\" class=\"dataframe\">\n",
       "  <thead>\n",
       "    <tr style=\"text-align: right;\">\n",
       "      <th></th>\n",
       "      <th>good</th>\n",
       "      <th>reach</th>\n",
       "      <th>will</th>\n",
       "    </tr>\n",
       "    <tr>\n",
       "      <th>tf</th>\n",
       "      <th></th>\n",
       "      <th></th>\n",
       "      <th></th>\n",
       "    </tr>\n",
       "  </thead>\n",
       "  <tbody>\n",
       "    <tr>\n",
       "      <th>Generate a TVS specific set of tutorials for</th>\n",
       "      <td>26</td>\n",
       "      <td>2</td>\n",
       "      <td>4</td>\n",
       "    </tr>\n",
       "    <tr>\n",
       "      <th>Stellar variability in crowded fields : This includes</th>\n",
       "      <td>26</td>\n",
       "      <td>1</td>\n",
       "      <td>12</td>\n",
       "    </tr>\n",
       "    <tr>\n",
       "      <th>Actively work on the TVS roadmap : each</th>\n",
       "      <td>26</td>\n",
       "      <td>0</td>\n",
       "      <td>8</td>\n",
       "    </tr>\n",
       "    <tr>\n",
       "      <th>DDT and Minisurvey proposals planning : task force</th>\n",
       "      <td>25</td>\n",
       "      <td>2</td>\n",
       "      <td>32</td>\n",
       "    </tr>\n",
       "    <tr>\n",
       "      <th>Weighting/priority for different classes of variable/transients for Minisurvey</th>\n",
       "      <td>24</td>\n",
       "      <td>2</td>\n",
       "      <td>6</td>\n",
       "    </tr>\n",
       "    <tr>\n",
       "      <th>Characterize the functionality needed from a community-broker interface</th>\n",
       "      <td>18</td>\n",
       "      <td>2</td>\n",
       "      <td>7</td>\n",
       "    </tr>\n",
       "    <tr>\n",
       "      <th>Review variability characterization parameters planned for the Level</th>\n",
       "      <td>16</td>\n",
       "      <td>2</td>\n",
       "      <td>14</td>\n",
       "    </tr>\n",
       "    <tr>\n",
       "      <th>Fast Transients: GRB, GW,.... may need specific attention,</th>\n",
       "      <td>14</td>\n",
       "      <td>0</td>\n",
       "      <td>5</td>\n",
       "    </tr>\n",
       "    <tr>\n",
       "      <th>Target of Opportunities in the Multi-messenger GW era:</th>\n",
       "      <td>14</td>\n",
       "      <td>0</td>\n",
       "      <td>7</td>\n",
       "    </tr>\n",
       "    <tr>\n",
       "      <th>A one night movie of LMC: A highly</th>\n",
       "      <td>12</td>\n",
       "      <td>1</td>\n",
       "      <td>3</td>\n",
       "    </tr>\n",
       "    <tr>\n",
       "      <th>Galactic Compact Object Binaries (COBi): optimizing cadencing strategies</th>\n",
       "      <td>9</td>\n",
       "      <td>0</td>\n",
       "      <td>2</td>\n",
       "    </tr>\n",
       "    <tr>\n",
       "      <th>Variability in Ultra-cool dwarf stars/Brown dwarfs : Population</th>\n",
       "      <td>4</td>\n",
       "      <td>0</td>\n",
       "      <td>1</td>\n",
       "    </tr>\n",
       "  </tbody>\n",
       "</table>\n",
       "</div>"
      ],
      "text/plain": [
       "                                                   good  reach will\n",
       "tf                                                                 \n",
       "Generate a TVS specific set of tutorials for         26      2    4\n",
       "Stellar variability in crowded fields : This in...   26      1   12\n",
       "Actively work on the TVS roadmap : each              26      0    8\n",
       "DDT and Minisurvey proposals planning : task force   25      2   32\n",
       "Weighting/priority for different classes of var...   24      2    6\n",
       "Characterize the functionality needed from a co...   18      2    7\n",
       "Review variability characterization parameters ...   16      2   14\n",
       "Fast Transients: GRB, GW,.... may need specific...   14      0    5\n",
       "Target of Opportunities in the Multi-messenger ...   14      0    7\n",
       "A one night movie of LMC: A highly                   12      1    3\n",
       "Galactic Compact Object Binaries (COBi): optimi...    9      0    2\n",
       "Variability in Ultra-cool dwarf stars/Brown dwa...    4      0    1"
      ]
     },
     "execution_count": 78,
     "metadata": {},
     "output_type": "execute_result"
    }
   ],
   "source": [
    "resDF.sort_values(\"good\", ascending=False)"
   ]
  },
  {
   "cell_type": "code",
   "execution_count": 138,
   "metadata": {
    "ExecuteTime": {
     "end_time": "2018-02-03T11:54:03.195045",
     "start_time": "2018-02-03T11:54:03.169816"
    },
    "collapsed": false
   },
   "outputs": [],
   "source": [
    "resDF[\"goodnessRank\"] = [np.where(resDF.sort_values(\"good\", ascending=False).index.values == tf)[0][0] + 1 for tf in resDF.index.values]"
   ]
  },
  {
   "cell_type": "markdown",
   "metadata": {},
   "source": [
    "## show sorted by \"willingness to work on it\""
   ]
  },
  {
   "cell_type": "code",
   "execution_count": 139,
   "metadata": {
    "ExecuteTime": {
     "end_time": "2018-02-03T11:54:05.362751",
     "start_time": "2018-02-03T11:54:05.248287"
    },
    "collapsed": false
   },
   "outputs": [
    {
     "data": {
      "text/html": [
       "<div>\n",
       "<table border=\"1\" class=\"dataframe\">\n",
       "  <thead>\n",
       "    <tr style=\"text-align: right;\">\n",
       "      <th></th>\n",
       "      <th>good</th>\n",
       "      <th>reach</th>\n",
       "      <th>will</th>\n",
       "      <th>score</th>\n",
       "      <th>goodnessRank</th>\n",
       "    </tr>\n",
       "    <tr>\n",
       "      <th>tf</th>\n",
       "      <th></th>\n",
       "      <th></th>\n",
       "      <th></th>\n",
       "      <th></th>\n",
       "      <th></th>\n",
       "    </tr>\n",
       "  </thead>\n",
       "  <tbody>\n",
       "    <tr>\n",
       "      <th>DDT and Minisurvey proposals planning : task force</th>\n",
       "      <td>25</td>\n",
       "      <td>2</td>\n",
       "      <td>32</td>\n",
       "      <td>43.5</td>\n",
       "      <td>4</td>\n",
       "    </tr>\n",
       "    <tr>\n",
       "      <th>Review variability characterization parameters planned for the Level</th>\n",
       "      <td>16</td>\n",
       "      <td>2</td>\n",
       "      <td>14</td>\n",
       "      <td>22.8</td>\n",
       "      <td>7</td>\n",
       "    </tr>\n",
       "    <tr>\n",
       "      <th>Stellar variability in crowded fields : This includes</th>\n",
       "      <td>26</td>\n",
       "      <td>1</td>\n",
       "      <td>12</td>\n",
       "      <td>21.8</td>\n",
       "      <td>2</td>\n",
       "    </tr>\n",
       "    <tr>\n",
       "      <th>Actively work on the TVS roadmap : each</th>\n",
       "      <td>26</td>\n",
       "      <td>0</td>\n",
       "      <td>8</td>\n",
       "      <td>15.8</td>\n",
       "      <td>3</td>\n",
       "    </tr>\n",
       "    <tr>\n",
       "      <th>Characterize the functionality needed from a community-broker interface</th>\n",
       "      <td>18</td>\n",
       "      <td>2</td>\n",
       "      <td>7</td>\n",
       "      <td>16.4</td>\n",
       "      <td>6</td>\n",
       "    </tr>\n",
       "    <tr>\n",
       "      <th>Target of Opportunities in the Multi-messenger GW era:</th>\n",
       "      <td>14</td>\n",
       "      <td>0</td>\n",
       "      <td>7</td>\n",
       "      <td>11.2</td>\n",
       "      <td>9</td>\n",
       "    </tr>\n",
       "    <tr>\n",
       "      <th>Weighting/priority for different classes of variable/transients for Minisurvey</th>\n",
       "      <td>24</td>\n",
       "      <td>2</td>\n",
       "      <td>6</td>\n",
       "      <td>17.2</td>\n",
       "      <td>5</td>\n",
       "    </tr>\n",
       "    <tr>\n",
       "      <th>Fast Transients: GRB, GW,.... may need specific attention,</th>\n",
       "      <td>14</td>\n",
       "      <td>0</td>\n",
       "      <td>5</td>\n",
       "      <td>9.2</td>\n",
       "      <td>8</td>\n",
       "    </tr>\n",
       "    <tr>\n",
       "      <th>Generate a TVS specific set of tutorials for</th>\n",
       "      <td>26</td>\n",
       "      <td>2</td>\n",
       "      <td>4</td>\n",
       "      <td>15.8</td>\n",
       "      <td>1</td>\n",
       "    </tr>\n",
       "    <tr>\n",
       "      <th>A one night movie of LMC: A highly</th>\n",
       "      <td>12</td>\n",
       "      <td>1</td>\n",
       "      <td>3</td>\n",
       "      <td>8.6</td>\n",
       "      <td>10</td>\n",
       "    </tr>\n",
       "    <tr>\n",
       "      <th>Galactic Compact Object Binaries (COBi): optimizing cadencing strategies</th>\n",
       "      <td>9</td>\n",
       "      <td>0</td>\n",
       "      <td>2</td>\n",
       "      <td>4.7</td>\n",
       "      <td>11</td>\n",
       "    </tr>\n",
       "    <tr>\n",
       "      <th>Variability in Ultra-cool dwarf stars/Brown dwarfs : Population</th>\n",
       "      <td>4</td>\n",
       "      <td>0</td>\n",
       "      <td>1</td>\n",
       "      <td>2.2</td>\n",
       "      <td>12</td>\n",
       "    </tr>\n",
       "  </tbody>\n",
       "</table>\n",
       "</div>"
      ],
      "text/plain": [
       "                                                   good  reach will score  \\\n",
       "tf                                                                          \n",
       "DDT and Minisurvey proposals planning : task force   25      2   32  43.5   \n",
       "Review variability characterization parameters ...   16      2   14  22.8   \n",
       "Stellar variability in crowded fields : This in...   26      1   12  21.8   \n",
       "Actively work on the TVS roadmap : each              26      0    8  15.8   \n",
       "Characterize the functionality needed from a co...   18      2    7  16.4   \n",
       "Target of Opportunities in the Multi-messenger ...   14      0    7  11.2   \n",
       "Weighting/priority for different classes of var...   24      2    6  17.2   \n",
       "Fast Transients: GRB, GW,.... may need specific...   14      0    5   9.2   \n",
       "Generate a TVS specific set of tutorials for         26      2    4  15.8   \n",
       "A one night movie of LMC: A highly                   12      1    3   8.6   \n",
       "Galactic Compact Object Binaries (COBi): optimi...    9      0    2   4.7   \n",
       "Variability in Ultra-cool dwarf stars/Brown dwa...    4      0    1   2.2   \n",
       "\n",
       "                                                    goodnessRank  \n",
       "tf                                                                \n",
       "DDT and Minisurvey proposals planning : task force             4  \n",
       "Review variability characterization parameters ...             7  \n",
       "Stellar variability in crowded fields : This in...             2  \n",
       "Actively work on the TVS roadmap : each                        3  \n",
       "Characterize the functionality needed from a co...             6  \n",
       "Target of Opportunities in the Multi-messenger ...             9  \n",
       "Weighting/priority for different classes of var...             5  \n",
       "Fast Transients: GRB, GW,.... may need specific...             8  \n",
       "Generate a TVS specific set of tutorials for                   1  \n",
       "A one night movie of LMC: A highly                            10  \n",
       "Galactic Compact Object Binaries (COBi): optimi...            11  \n",
       "Variability in Ultra-cool dwarf stars/Brown dwa...            12  "
      ]
     },
     "execution_count": 139,
     "metadata": {},
     "output_type": "execute_result"
    }
   ],
   "source": [
    "resDF.sort_values(\"will\", ascending=False)"
   ]
  },
  {
   "cell_type": "markdown",
   "metadata": {},
   "source": [
    "# create a simple ranking algorithm: \n",
    "sum all values, weight good idea by 1/3, reach by 2. this leaves taks forces where most people have volunteered at the top, and pulls 2 with fewer people but broad reach out of the rest"
   ]
  },
  {
   "cell_type": "code",
   "execution_count": 140,
   "metadata": {
    "ExecuteTime": {
     "end_time": "2018-02-03T11:54:06.679119",
     "start_time": "2018-02-03T11:54:06.667710"
    },
    "collapsed": true
   },
   "outputs": [],
   "source": [
    "resDF[\"score\"] = resDF[\"good\"] * 0.3 + resDF[\"will\"] + resDF[\"reach\"] * 2"
   ]
  },
  {
   "cell_type": "code",
   "execution_count": 141,
   "metadata": {
    "ExecuteTime": {
     "end_time": "2018-02-03T11:54:07.574363",
     "start_time": "2018-02-03T11:54:07.497452"
    },
    "collapsed": false
   },
   "outputs": [
    {
     "data": {
      "text/html": [
       "<div>\n",
       "<table border=\"1\" class=\"dataframe\">\n",
       "  <thead>\n",
       "    <tr style=\"text-align: right;\">\n",
       "      <th></th>\n",
       "      <th>good</th>\n",
       "      <th>reach</th>\n",
       "      <th>will</th>\n",
       "      <th>score</th>\n",
       "      <th>goodnessRank</th>\n",
       "    </tr>\n",
       "    <tr>\n",
       "      <th>tf</th>\n",
       "      <th></th>\n",
       "      <th></th>\n",
       "      <th></th>\n",
       "      <th></th>\n",
       "      <th></th>\n",
       "    </tr>\n",
       "  </thead>\n",
       "  <tbody>\n",
       "    <tr>\n",
       "      <th>DDT and Minisurvey proposals planning : task force</th>\n",
       "      <td>25</td>\n",
       "      <td>2</td>\n",
       "      <td>32</td>\n",
       "      <td>43.5</td>\n",
       "      <td>4</td>\n",
       "    </tr>\n",
       "    <tr>\n",
       "      <th>Review variability characterization parameters planned for the Level</th>\n",
       "      <td>16</td>\n",
       "      <td>2</td>\n",
       "      <td>14</td>\n",
       "      <td>22.8</td>\n",
       "      <td>7</td>\n",
       "    </tr>\n",
       "    <tr>\n",
       "      <th>Stellar variability in crowded fields : This includes</th>\n",
       "      <td>26</td>\n",
       "      <td>1</td>\n",
       "      <td>12</td>\n",
       "      <td>21.8</td>\n",
       "      <td>2</td>\n",
       "    </tr>\n",
       "    <tr>\n",
       "      <th>Weighting/priority for different classes of variable/transients for Minisurvey</th>\n",
       "      <td>24</td>\n",
       "      <td>2</td>\n",
       "      <td>6</td>\n",
       "      <td>17.2</td>\n",
       "      <td>5</td>\n",
       "    </tr>\n",
       "    <tr>\n",
       "      <th>Characterize the functionality needed from a community-broker interface</th>\n",
       "      <td>18</td>\n",
       "      <td>2</td>\n",
       "      <td>7</td>\n",
       "      <td>16.4</td>\n",
       "      <td>6</td>\n",
       "    </tr>\n",
       "    <tr>\n",
       "      <th>Generate a TVS specific set of tutorials for</th>\n",
       "      <td>26</td>\n",
       "      <td>2</td>\n",
       "      <td>4</td>\n",
       "      <td>15.8</td>\n",
       "      <td>1</td>\n",
       "    </tr>\n",
       "    <tr>\n",
       "      <th>Actively work on the TVS roadmap : each</th>\n",
       "      <td>26</td>\n",
       "      <td>0</td>\n",
       "      <td>8</td>\n",
       "      <td>15.8</td>\n",
       "      <td>3</td>\n",
       "    </tr>\n",
       "    <tr>\n",
       "      <th>Target of Opportunities in the Multi-messenger GW era:</th>\n",
       "      <td>14</td>\n",
       "      <td>0</td>\n",
       "      <td>7</td>\n",
       "      <td>11.2</td>\n",
       "      <td>9</td>\n",
       "    </tr>\n",
       "    <tr>\n",
       "      <th>Fast Transients: GRB, GW,.... may need specific attention,</th>\n",
       "      <td>14</td>\n",
       "      <td>0</td>\n",
       "      <td>5</td>\n",
       "      <td>9.2</td>\n",
       "      <td>8</td>\n",
       "    </tr>\n",
       "    <tr>\n",
       "      <th>A one night movie of LMC: A highly</th>\n",
       "      <td>12</td>\n",
       "      <td>1</td>\n",
       "      <td>3</td>\n",
       "      <td>8.6</td>\n",
       "      <td>10</td>\n",
       "    </tr>\n",
       "    <tr>\n",
       "      <th>Galactic Compact Object Binaries (COBi): optimizing cadencing strategies</th>\n",
       "      <td>9</td>\n",
       "      <td>0</td>\n",
       "      <td>2</td>\n",
       "      <td>4.7</td>\n",
       "      <td>11</td>\n",
       "    </tr>\n",
       "    <tr>\n",
       "      <th>Variability in Ultra-cool dwarf stars/Brown dwarfs : Population</th>\n",
       "      <td>4</td>\n",
       "      <td>0</td>\n",
       "      <td>1</td>\n",
       "      <td>2.2</td>\n",
       "      <td>12</td>\n",
       "    </tr>\n",
       "  </tbody>\n",
       "</table>\n",
       "</div>"
      ],
      "text/plain": [
       "                                                   good  reach will score  \\\n",
       "tf                                                                          \n",
       "DDT and Minisurvey proposals planning : task force   25      2   32  43.5   \n",
       "Review variability characterization parameters ...   16      2   14  22.8   \n",
       "Stellar variability in crowded fields : This in...   26      1   12  21.8   \n",
       "Weighting/priority for different classes of var...   24      2    6  17.2   \n",
       "Characterize the functionality needed from a co...   18      2    7  16.4   \n",
       "Generate a TVS specific set of tutorials for         26      2    4  15.8   \n",
       "Actively work on the TVS roadmap : each              26      0    8  15.8   \n",
       "Target of Opportunities in the Multi-messenger ...   14      0    7  11.2   \n",
       "Fast Transients: GRB, GW,.... may need specific...   14      0    5   9.2   \n",
       "A one night movie of LMC: A highly                   12      1    3   8.6   \n",
       "Galactic Compact Object Binaries (COBi): optimi...    9      0    2   4.7   \n",
       "Variability in Ultra-cool dwarf stars/Brown dwa...    4      0    1   2.2   \n",
       "\n",
       "                                                    goodnessRank  \n",
       "tf                                                                \n",
       "DDT and Minisurvey proposals planning : task force             4  \n",
       "Review variability characterization parameters ...             7  \n",
       "Stellar variability in crowded fields : This in...             2  \n",
       "Weighting/priority for different classes of var...             5  \n",
       "Characterize the functionality needed from a co...             6  \n",
       "Generate a TVS specific set of tutorials for                   1  \n",
       "Actively work on the TVS roadmap : each                        3  \n",
       "Target of Opportunities in the Multi-messenger ...             9  \n",
       "Fast Transients: GRB, GW,.... may need specific...             8  \n",
       "A one night movie of LMC: A highly                            10  \n",
       "Galactic Compact Object Binaries (COBi): optimi...            11  \n",
       "Variability in Ultra-cool dwarf stars/Brown dwa...            12  "
      ]
     },
     "execution_count": 141,
     "metadata": {},
     "output_type": "execute_result"
    }
   ],
   "source": [
    "resDF.sort_values(\"score\", ascending=False)"
   ]
  },
  {
   "cell_type": "markdown",
   "metadata": {},
   "source": [
    "# I propose to activate the top 5:\n"
   ]
  },
  {
   "cell_type": "code",
   "execution_count": 144,
   "metadata": {
    "ExecuteTime": {
     "end_time": "2018-02-03T11:54:56.389584",
     "start_time": "2018-02-03T11:54:56.364705"
    },
    "collapsed": false
   },
   "outputs": [
    {
     "name": "stdout",
     "output_type": "stream",
     "text": [
      "DDT and Minisurvey proposals planning                                                       people participating: 32     people thought it was a good idea: 4\n",
      "Review variability characterization parameters planned for the Level                        people participating: 14     people thought it was a good idea: 7\n",
      "Stellar variability in crowded fields                                                       people participating: 12     people thought it was a good idea: 2\n",
      "Weighting/priority for different classes of variable/transients for Minisurvey              people participating:  6     people thought it was a good idea: 5\n",
      "Characterize the functionality needed from a community-broker interface                     people participating:  7     people thought it was a good idea: 6\n"
     ]
    }
   ],
   "source": [
    "for tf in resDF.sort_values(\"score\", ascending=False).index[:5]:\n",
    "    print ('{0:80}            people participating: {1:2}     people thought it was a good idea: {2}'.format(tf.split(\":\")[0], resDF.loc[tf, \"will\"],  resDF.loc[tf, \"goodnessRank\"]))"
   ]
  },
  {
   "cell_type": "markdown",
   "metadata": {},
   "source": [
    "the one that is left out which was thought to be a good idea, but had nobody willing to work on it, is the tutorials for MAF transients/variables (ranked 1 in \"good idea\") and the roadmap TF (ranked 3). The latter does not concern me: we will have chapter editors for that and Rachel and I as main editors."
   ]
  },
  {
   "cell_type": "code",
   "execution_count": null,
   "metadata": {
    "collapsed": true
   },
   "outputs": [],
   "source": []
  }
 ],
 "metadata": {
  "anaconda-cloud": {},
  "kernelspec": {
   "display_name": "Python 3",
   "language": "python",
   "name": "python3"
  },
  "language_info": {
   "codemirror_mode": {
    "name": "ipython",
    "version": 2
   },
   "file_extension": ".py",
   "mimetype": "text/x-python",
   "name": "python",
   "nbconvert_exporter": "python",
   "pygments_lexer": "ipython2",
   "version": "2.7.12"
  },
  "toc": {
   "colors": {
    "hover_highlight": "#DAA520",
    "running_highlight": "#FF0000",
    "selected_highlight": "#FFD700"
   },
   "moveMenuLeft": true,
   "nav_menu": {
    "height": "12px",
    "width": "252px"
   },
   "navigate_menu": true,
   "number_sections": true,
   "sideBar": true,
   "threshold": 4,
   "toc_cell": false,
   "toc_section_display": "block",
   "toc_window_display": false
  }
 },
 "nbformat": 4,
 "nbformat_minor": 1
}
