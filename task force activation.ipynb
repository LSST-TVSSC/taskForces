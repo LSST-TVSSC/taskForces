{
 "cells": [
  {
   "cell_type": "code",
   "execution_count": 1,
   "metadata": {
    "ExecuteTime": {
     "end_time": "2018-02-03T13:48:54.597598",
     "start_time": "2018-02-03T13:48:52.404663"
    },
    "collapsed": false,
    "run_control": {
     "frozen": false,
     "read_only": false
    }
   },
   "outputs": [],
   "source": [
    "from __future__ import print_function\n",
    "import pylab as pl\n",
    "import pandas as pd\n",
    "import numpy as np"
   ]
  },
  {
   "cell_type": "code",
   "execution_count": 2,
   "metadata": {
    "ExecuteTime": {
     "end_time": "2018-02-03T13:48:54.609226",
     "start_time": "2018-02-03T13:48:54.600059"
    },
    "collapsed": false,
    "run_control": {
     "frozen": false,
     "read_only": false
    }
   },
   "outputs": [
    {
     "data": {
      "text/plain": [
       "'__author__ : FBB, Feb 2018'"
      ]
     },
     "execution_count": 2,
     "metadata": {},
     "output_type": "execute_result"
    }
   ],
   "source": [
    "'__author__ : FBB, Feb 2018'"
   ]
  },
  {
   "cell_type": "markdown",
   "metadata": {
    "run_control": {
     "frozen": false,
     "read_only": false
    }
   },
   "source": [
    "** notebook to reading the responses to the task force survey and deciding which task forces should be activated.**\n",
    "\n",
    "**12 task forces were proposed. possible answerese were \"good idea\" and \"I am willing to work on it\", not mutually exclusive**"
   ]
  },
  {
   "cell_type": "markdown",
   "metadata": {
    "run_control": {
     "frozen": false,
     "read_only": false
    }
   },
   "source": [
    "# read in survey response"
   ]
  },
  {
   "cell_type": "code",
   "execution_count": 3,
   "metadata": {
    "ExecuteTime": {
     "end_time": "2018-02-03T13:48:54.632829",
     "start_time": "2018-02-03T13:48:54.611802"
    },
    "collapsed": false,
    "run_control": {
     "frozen": false,
     "read_only": false
    }
   },
   "outputs": [],
   "source": [
    "responses = pd.read_csv(\"TVS Task Force sign up.csv\")"
   ]
  },
  {
   "cell_type": "code",
   "execution_count": 4,
   "metadata": {
    "ExecuteTime": {
     "end_time": "2018-02-03T13:48:54.640983",
     "start_time": "2018-02-03T13:48:54.635030"
    },
    "collapsed": false,
    "run_control": {
     "frozen": false,
     "read_only": false
    }
   },
   "outputs": [],
   "source": [
    "tfs = responses.columns[2:]"
   ]
  },
  {
   "cell_type": "code",
   "execution_count": 5,
   "metadata": {
    "ExecuteTime": {
     "end_time": "2018-02-03T13:48:54.660533",
     "start_time": "2018-02-03T13:48:54.643696"
    },
    "collapsed": false,
    "run_control": {
     "frozen": false,
     "read_only": false
    }
   },
   "outputs": [
    {
     "data": {
      "text/plain": [
       "0     Good idea;I am willing to contribute\n",
       "1     Good idea;I am willing to contribute\n",
       "2                                Good idea\n",
       "3     Good idea;I am willing to contribute\n",
       "4     Good idea;I am willing to contribute\n",
       "5     Good idea;I am willing to contribute\n",
       "6     Good idea;I am willing to contribute\n",
       "7                                      NaN\n",
       "8     Good idea;I am willing to contribute\n",
       "9                                      NaN\n",
       "10    Good idea;I am willing to contribute\n",
       "11                               Good idea\n",
       "12                                     NaN\n",
       "13                               Good idea\n",
       "14    Good idea;I am willing to contribute\n",
       "15    Good idea;I am willing to contribute\n",
       "16    Good idea;I am willing to contribute\n",
       "17                               Good idea\n",
       "18              I am willing to contribute\n",
       "19                               Good idea\n",
       "20    Good idea;I am willing to contribute\n",
       "21                                     NaN\n",
       "22              I am willing to contribute\n",
       "23    Good idea;I am willing to contribute\n",
       "24                                     NaN\n",
       "25    Good idea;I am willing to contribute\n",
       "26    Good idea;I am willing to contribute\n",
       "27              I am willing to contribute\n",
       "28              I am willing to contribute\n",
       "29              I am willing to contribute\n",
       "30              I am willing to contribute\n",
       "31    Good idea;I am willing to contribute\n",
       "32    Good idea;I am willing to contribute\n",
       "33              I am willing to contribute\n",
       "34              I am willing to contribute\n",
       "35              I am willing to contribute\n",
       "36              I am willing to contribute\n",
       "37              I am willing to contribute\n",
       "38              I am willing to contribute\n",
       "39                                     NaN\n",
       "40                                     NaN\n",
       "41                                     NaN\n",
       "42                                     NaN\n",
       "43                                     NaN\n",
       "44              I am willing to contribute\n",
       "45                                     NaN\n",
       "46                               Good idea\n",
       "47    Good idea;I am willing to contribute\n",
       "48              I am willing to contribute\n",
       "49                               Good idea\n",
       "Name: DDT and Minisurvey proposals planning : task force aimed at identifying priorities and science cases to be included in fall 2018 Minisurvey DDT proposals, dtype: object"
      ]
     },
     "execution_count": 5,
     "metadata": {},
     "output_type": "execute_result"
    }
   ],
   "source": [
    "responses[tfs[0]]"
   ]
  },
  {
   "cell_type": "code",
   "execution_count": 6,
   "metadata": {
    "ExecuteTime": {
     "end_time": "2018-02-03T13:48:54.670874",
     "start_time": "2018-02-03T13:48:54.663114"
    },
    "collapsed": true,
    "run_control": {
     "frozen": false,
     "read_only": false
    }
   },
   "outputs": [],
   "source": [
    "goodidea = np.zeros_like(tfs)\n",
    "willingness  =np.zeros_like(tfs)"
   ]
  },
  {
   "cell_type": "markdown",
   "metadata": {
    "run_control": {
     "frozen": false,
     "read_only": false
    }
   },
   "source": [
    "## count \"good idea\""
   ]
  },
  {
   "cell_type": "code",
   "execution_count": 7,
   "metadata": {
    "ExecuteTime": {
     "end_time": "2018-02-03T13:48:54.685475",
     "start_time": "2018-02-03T13:48:54.673318"
    },
    "collapsed": false,
    "run_control": {
     "frozen": false,
     "read_only": false
    }
   },
   "outputs": [
    {
     "name": "stdout",
     "output_type": "stream",
     "text": [
      "good idea\n",
      "\n",
      "DDT and Minisurvey proposals planning : task 25\n",
      "Generate a TVS specific set of tutorials 26\n",
      "Characterize the functionality needed from a community-broker 18\n",
      "Review variability characterization parameters planned for the 16\n",
      "Weighting/priority for different classes of variable/transients for 24\n",
      "A one night movie of LMC: A 12\n",
      "Stellar variability in crowded fields : This 26\n",
      "Actively work on the TVS roadmap : 26\n",
      "Fast Transients: GRB, GW,.... may need specific 14\n",
      "Variability in Ultra-cool dwarf stars/Brown dwarfs : 4\n",
      "Galactic Compact Object Binaries (COBi): optimizing cadencing 9\n",
      "Target of Opportunities in the Multi-messenger GW 14\n"
     ]
    }
   ],
   "source": [
    "print (\"good idea\\n\")\n",
    "for i,tf in enumerate(tfs):\n",
    "    goodidea[i] = np.array([\"Good idea\" in  f  for f in responses[tf].values if not isinstance(f, float)]).sum()\n",
    "    print (' '.join(tf.split()[:7]), goodidea[i])"
   ]
  },
  {
   "cell_type": "markdown",
   "metadata": {
    "run_control": {
     "frozen": false,
     "read_only": false
    }
   },
   "source": [
    "## count \"willingness to work\""
   ]
  },
  {
   "cell_type": "code",
   "execution_count": 8,
   "metadata": {
    "ExecuteTime": {
     "end_time": "2018-02-03T13:48:54.700125",
     "start_time": "2018-02-03T13:48:54.688579"
    },
    "collapsed": false,
    "run_control": {
     "frozen": false,
     "read_only": false
    }
   },
   "outputs": [
    {
     "name": "stdout",
     "output_type": "stream",
     "text": [
      "Willingness\n",
      "\n",
      "DDT and Minisurvey proposals planning : task 32\n",
      "Generate a TVS specific set of tutorials 4\n",
      "Characterize the functionality needed from a community-broker 7\n",
      "Review variability characterization parameters planned for the 14\n",
      "Weighting/priority for different classes of variable/transients for 6\n",
      "A one night movie of LMC: A 3\n",
      "Stellar variability in crowded fields : This 12\n",
      "Actively work on the TVS roadmap : 8\n",
      "Fast Transients: GRB, GW,.... may need specific 5\n",
      "Variability in Ultra-cool dwarf stars/Brown dwarfs : 1\n",
      "Galactic Compact Object Binaries (COBi): optimizing cadencing 2\n",
      "Target of Opportunities in the Multi-messenger GW 7\n"
     ]
    }
   ],
   "source": [
    "print (\"Willingness\\n\")\n",
    "for i,tf in enumerate(tfs):\n",
    "    willingness[i] = np.array([\"willing\" in  f  for f in responses[tf].values if not isinstance(f, float)]).sum()\n",
    "    print (' '.join(tf.split()[:7]), willingness[i])"
   ]
  },
  {
   "cell_type": "markdown",
   "metadata": {
    "run_control": {
     "frozen": false,
     "read_only": false
    }
   },
   "source": [
    "## add score for how broadly the taks force would affect TVS"
   ]
  },
  {
   "cell_type": "code",
   "execution_count": 9,
   "metadata": {
    "ExecuteTime": {
     "end_time": "2018-02-03T13:48:54.730677",
     "start_time": "2018-02-03T13:48:54.720674"
    },
    "collapsed": true,
    "run_control": {
     "frozen": false,
     "read_only": false
    }
   },
   "outputs": [],
   "source": [
    "res = {}\n",
    "res[\"good\"] = goodidea\n",
    "res[\"will\"] = willingness\n",
    "res[\"reach\"] = [2] * 5 + [1] * 2 + [0] * 5\n",
    "res[\"tf\"] = [' '.join(tf.split()[:8]) for tf in tfs]"
   ]
  },
  {
   "cell_type": "code",
   "execution_count": 10,
   "metadata": {
    "ExecuteTime": {
     "end_time": "2018-02-03T13:48:54.751508",
     "start_time": "2018-02-03T13:48:54.739031"
    },
    "collapsed": false,
    "run_control": {
     "frozen": false,
     "read_only": false
    }
   },
   "outputs": [],
   "source": [
    "resDF = pd.DataFrame.from_dict(res).set_index(\"tf\")"
   ]
  },
  {
   "cell_type": "markdown",
   "metadata": {
    "run_control": {
     "frozen": false,
     "read_only": false
    }
   },
   "source": [
    "# see how things rank in each feature\n",
    "## show sorted by how broadly affects TVS"
   ]
  },
  {
   "cell_type": "code",
   "execution_count": 11,
   "metadata": {
    "ExecuteTime": {
     "end_time": "2018-02-03T13:48:54.803384",
     "start_time": "2018-02-03T13:48:54.765644"
    },
    "collapsed": false,
    "run_control": {
     "frozen": false,
     "read_only": false
    }
   },
   "outputs": [
    {
     "data": {
      "text/html": [
       "<div>\n",
       "<table border=\"1\" class=\"dataframe\">\n",
       "  <thead>\n",
       "    <tr style=\"text-align: right;\">\n",
       "      <th></th>\n",
       "      <th>good</th>\n",
       "      <th>reach</th>\n",
       "      <th>will</th>\n",
       "    </tr>\n",
       "    <tr>\n",
       "      <th>tf</th>\n",
       "      <th></th>\n",
       "      <th></th>\n",
       "      <th></th>\n",
       "    </tr>\n",
       "  </thead>\n",
       "  <tbody>\n",
       "    <tr>\n",
       "      <th>DDT and Minisurvey proposals planning : task force</th>\n",
       "      <td>25</td>\n",
       "      <td>2</td>\n",
       "      <td>32</td>\n",
       "    </tr>\n",
       "    <tr>\n",
       "      <th>Generate a TVS specific set of tutorials for</th>\n",
       "      <td>26</td>\n",
       "      <td>2</td>\n",
       "      <td>4</td>\n",
       "    </tr>\n",
       "    <tr>\n",
       "      <th>Characterize the functionality needed from a community-broker interface</th>\n",
       "      <td>18</td>\n",
       "      <td>2</td>\n",
       "      <td>7</td>\n",
       "    </tr>\n",
       "    <tr>\n",
       "      <th>Review variability characterization parameters planned for the Level</th>\n",
       "      <td>16</td>\n",
       "      <td>2</td>\n",
       "      <td>14</td>\n",
       "    </tr>\n",
       "    <tr>\n",
       "      <th>Weighting/priority for different classes of variable/transients for Minisurvey</th>\n",
       "      <td>24</td>\n",
       "      <td>2</td>\n",
       "      <td>6</td>\n",
       "    </tr>\n",
       "    <tr>\n",
       "      <th>A one night movie of LMC: A highly</th>\n",
       "      <td>12</td>\n",
       "      <td>1</td>\n",
       "      <td>3</td>\n",
       "    </tr>\n",
       "    <tr>\n",
       "      <th>Stellar variability in crowded fields : This includes</th>\n",
       "      <td>26</td>\n",
       "      <td>1</td>\n",
       "      <td>12</td>\n",
       "    </tr>\n",
       "    <tr>\n",
       "      <th>Actively work on the TVS roadmap : each</th>\n",
       "      <td>26</td>\n",
       "      <td>0</td>\n",
       "      <td>8</td>\n",
       "    </tr>\n",
       "    <tr>\n",
       "      <th>Fast Transients: GRB, GW,.... may need specific attention,</th>\n",
       "      <td>14</td>\n",
       "      <td>0</td>\n",
       "      <td>5</td>\n",
       "    </tr>\n",
       "    <tr>\n",
       "      <th>Variability in Ultra-cool dwarf stars/Brown dwarfs : Population</th>\n",
       "      <td>4</td>\n",
       "      <td>0</td>\n",
       "      <td>1</td>\n",
       "    </tr>\n",
       "    <tr>\n",
       "      <th>Galactic Compact Object Binaries (COBi): optimizing cadencing strategies</th>\n",
       "      <td>9</td>\n",
       "      <td>0</td>\n",
       "      <td>2</td>\n",
       "    </tr>\n",
       "    <tr>\n",
       "      <th>Target of Opportunities in the Multi-messenger GW era:</th>\n",
       "      <td>14</td>\n",
       "      <td>0</td>\n",
       "      <td>7</td>\n",
       "    </tr>\n",
       "  </tbody>\n",
       "</table>\n",
       "</div>"
      ],
      "text/plain": [
       "                                                   good  reach will\n",
       "tf                                                                 \n",
       "DDT and Minisurvey proposals planning : task force   25      2   32\n",
       "Generate a TVS specific set of tutorials for         26      2    4\n",
       "Characterize the functionality needed from a co...   18      2    7\n",
       "Review variability characterization parameters ...   16      2   14\n",
       "Weighting/priority for different classes of var...   24      2    6\n",
       "A one night movie of LMC: A highly                   12      1    3\n",
       "Stellar variability in crowded fields : This in...   26      1   12\n",
       "Actively work on the TVS roadmap : each              26      0    8\n",
       "Fast Transients: GRB, GW,.... may need specific...   14      0    5\n",
       "Variability in Ultra-cool dwarf stars/Brown dwa...    4      0    1\n",
       "Galactic Compact Object Binaries (COBi): optimi...    9      0    2\n",
       "Target of Opportunities in the Multi-messenger ...   14      0    7"
      ]
     },
     "execution_count": 11,
     "metadata": {},
     "output_type": "execute_result"
    }
   ],
   "source": [
    "resDF.sort_values(\"reach\", ascending=False)"
   ]
  },
  {
   "cell_type": "markdown",
   "metadata": {
    "run_control": {
     "frozen": false,
     "read_only": false
    }
   },
   "source": [
    "## show sorted by \"good idea\""
   ]
  },
  {
   "cell_type": "code",
   "execution_count": 12,
   "metadata": {
    "ExecuteTime": {
     "end_time": "2018-02-03T13:48:54.858000",
     "start_time": "2018-02-03T13:48:54.807008"
    },
    "collapsed": false,
    "run_control": {
     "frozen": false,
     "read_only": false
    }
   },
   "outputs": [
    {
     "data": {
      "text/html": [
       "<div>\n",
       "<table border=\"1\" class=\"dataframe\">\n",
       "  <thead>\n",
       "    <tr style=\"text-align: right;\">\n",
       "      <th></th>\n",
       "      <th>good</th>\n",
       "      <th>reach</th>\n",
       "      <th>will</th>\n",
       "    </tr>\n",
       "    <tr>\n",
       "      <th>tf</th>\n",
       "      <th></th>\n",
       "      <th></th>\n",
       "      <th></th>\n",
       "    </tr>\n",
       "  </thead>\n",
       "  <tbody>\n",
       "    <tr>\n",
       "      <th>Generate a TVS specific set of tutorials for</th>\n",
       "      <td>26</td>\n",
       "      <td>2</td>\n",
       "      <td>4</td>\n",
       "    </tr>\n",
       "    <tr>\n",
       "      <th>Stellar variability in crowded fields : This includes</th>\n",
       "      <td>26</td>\n",
       "      <td>1</td>\n",
       "      <td>12</td>\n",
       "    </tr>\n",
       "    <tr>\n",
       "      <th>Actively work on the TVS roadmap : each</th>\n",
       "      <td>26</td>\n",
       "      <td>0</td>\n",
       "      <td>8</td>\n",
       "    </tr>\n",
       "    <tr>\n",
       "      <th>DDT and Minisurvey proposals planning : task force</th>\n",
       "      <td>25</td>\n",
       "      <td>2</td>\n",
       "      <td>32</td>\n",
       "    </tr>\n",
       "    <tr>\n",
       "      <th>Weighting/priority for different classes of variable/transients for Minisurvey</th>\n",
       "      <td>24</td>\n",
       "      <td>2</td>\n",
       "      <td>6</td>\n",
       "    </tr>\n",
       "    <tr>\n",
       "      <th>Characterize the functionality needed from a community-broker interface</th>\n",
       "      <td>18</td>\n",
       "      <td>2</td>\n",
       "      <td>7</td>\n",
       "    </tr>\n",
       "    <tr>\n",
       "      <th>Review variability characterization parameters planned for the Level</th>\n",
       "      <td>16</td>\n",
       "      <td>2</td>\n",
       "      <td>14</td>\n",
       "    </tr>\n",
       "    <tr>\n",
       "      <th>Fast Transients: GRB, GW,.... may need specific attention,</th>\n",
       "      <td>14</td>\n",
       "      <td>0</td>\n",
       "      <td>5</td>\n",
       "    </tr>\n",
       "    <tr>\n",
       "      <th>Target of Opportunities in the Multi-messenger GW era:</th>\n",
       "      <td>14</td>\n",
       "      <td>0</td>\n",
       "      <td>7</td>\n",
       "    </tr>\n",
       "    <tr>\n",
       "      <th>A one night movie of LMC: A highly</th>\n",
       "      <td>12</td>\n",
       "      <td>1</td>\n",
       "      <td>3</td>\n",
       "    </tr>\n",
       "    <tr>\n",
       "      <th>Galactic Compact Object Binaries (COBi): optimizing cadencing strategies</th>\n",
       "      <td>9</td>\n",
       "      <td>0</td>\n",
       "      <td>2</td>\n",
       "    </tr>\n",
       "    <tr>\n",
       "      <th>Variability in Ultra-cool dwarf stars/Brown dwarfs : Population</th>\n",
       "      <td>4</td>\n",
       "      <td>0</td>\n",
       "      <td>1</td>\n",
       "    </tr>\n",
       "  </tbody>\n",
       "</table>\n",
       "</div>"
      ],
      "text/plain": [
       "                                                   good  reach will\n",
       "tf                                                                 \n",
       "Generate a TVS specific set of tutorials for         26      2    4\n",
       "Stellar variability in crowded fields : This in...   26      1   12\n",
       "Actively work on the TVS roadmap : each              26      0    8\n",
       "DDT and Minisurvey proposals planning : task force   25      2   32\n",
       "Weighting/priority for different classes of var...   24      2    6\n",
       "Characterize the functionality needed from a co...   18      2    7\n",
       "Review variability characterization parameters ...   16      2   14\n",
       "Fast Transients: GRB, GW,.... may need specific...   14      0    5\n",
       "Target of Opportunities in the Multi-messenger ...   14      0    7\n",
       "A one night movie of LMC: A highly                   12      1    3\n",
       "Galactic Compact Object Binaries (COBi): optimi...    9      0    2\n",
       "Variability in Ultra-cool dwarf stars/Brown dwa...    4      0    1"
      ]
     },
     "execution_count": 12,
     "metadata": {},
     "output_type": "execute_result"
    }
   ],
   "source": [
    "resDF.sort_values(\"good\", ascending=False)"
   ]
  },
  {
   "cell_type": "code",
   "execution_count": 13,
   "metadata": {
    "ExecuteTime": {
     "end_time": "2018-02-03T13:48:54.876147",
     "start_time": "2018-02-03T13:48:54.860859"
    },
    "collapsed": false,
    "run_control": {
     "frozen": false,
     "read_only": false
    }
   },
   "outputs": [],
   "source": [
    "resDF[\"goodnessRank\"] = [np.where(resDF.sort_values(\"good\", ascending=False).index.values == tf)[0][0] + 1 for tf in resDF.index.values]"
   ]
  },
  {
   "cell_type": "markdown",
   "metadata": {
    "run_control": {
     "frozen": false,
     "read_only": false
    }
   },
   "source": [
    "## show sorted by \"willingness to work on it\""
   ]
  },
  {
   "cell_type": "code",
   "execution_count": 14,
   "metadata": {
    "ExecuteTime": {
     "end_time": "2018-02-03T13:48:54.908307",
     "start_time": "2018-02-03T13:48:54.879499"
    },
    "collapsed": false,
    "run_control": {
     "frozen": false,
     "read_only": false
    }
   },
   "outputs": [
    {
     "data": {
      "text/html": [
       "<div>\n",
       "<table border=\"1\" class=\"dataframe\">\n",
       "  <thead>\n",
       "    <tr style=\"text-align: right;\">\n",
       "      <th></th>\n",
       "      <th>good</th>\n",
       "      <th>reach</th>\n",
       "      <th>will</th>\n",
       "      <th>goodnessRank</th>\n",
       "    </tr>\n",
       "    <tr>\n",
       "      <th>tf</th>\n",
       "      <th></th>\n",
       "      <th></th>\n",
       "      <th></th>\n",
       "      <th></th>\n",
       "    </tr>\n",
       "  </thead>\n",
       "  <tbody>\n",
       "    <tr>\n",
       "      <th>DDT and Minisurvey proposals planning : task force</th>\n",
       "      <td>25</td>\n",
       "      <td>2</td>\n",
       "      <td>32</td>\n",
       "      <td>4</td>\n",
       "    </tr>\n",
       "    <tr>\n",
       "      <th>Review variability characterization parameters planned for the Level</th>\n",
       "      <td>16</td>\n",
       "      <td>2</td>\n",
       "      <td>14</td>\n",
       "      <td>7</td>\n",
       "    </tr>\n",
       "    <tr>\n",
       "      <th>Stellar variability in crowded fields : This includes</th>\n",
       "      <td>26</td>\n",
       "      <td>1</td>\n",
       "      <td>12</td>\n",
       "      <td>2</td>\n",
       "    </tr>\n",
       "    <tr>\n",
       "      <th>Actively work on the TVS roadmap : each</th>\n",
       "      <td>26</td>\n",
       "      <td>0</td>\n",
       "      <td>8</td>\n",
       "      <td>3</td>\n",
       "    </tr>\n",
       "    <tr>\n",
       "      <th>Characterize the functionality needed from a community-broker interface</th>\n",
       "      <td>18</td>\n",
       "      <td>2</td>\n",
       "      <td>7</td>\n",
       "      <td>6</td>\n",
       "    </tr>\n",
       "    <tr>\n",
       "      <th>Target of Opportunities in the Multi-messenger GW era:</th>\n",
       "      <td>14</td>\n",
       "      <td>0</td>\n",
       "      <td>7</td>\n",
       "      <td>9</td>\n",
       "    </tr>\n",
       "    <tr>\n",
       "      <th>Weighting/priority for different classes of variable/transients for Minisurvey</th>\n",
       "      <td>24</td>\n",
       "      <td>2</td>\n",
       "      <td>6</td>\n",
       "      <td>5</td>\n",
       "    </tr>\n",
       "    <tr>\n",
       "      <th>Fast Transients: GRB, GW,.... may need specific attention,</th>\n",
       "      <td>14</td>\n",
       "      <td>0</td>\n",
       "      <td>5</td>\n",
       "      <td>8</td>\n",
       "    </tr>\n",
       "    <tr>\n",
       "      <th>Generate a TVS specific set of tutorials for</th>\n",
       "      <td>26</td>\n",
       "      <td>2</td>\n",
       "      <td>4</td>\n",
       "      <td>1</td>\n",
       "    </tr>\n",
       "    <tr>\n",
       "      <th>A one night movie of LMC: A highly</th>\n",
       "      <td>12</td>\n",
       "      <td>1</td>\n",
       "      <td>3</td>\n",
       "      <td>10</td>\n",
       "    </tr>\n",
       "    <tr>\n",
       "      <th>Galactic Compact Object Binaries (COBi): optimizing cadencing strategies</th>\n",
       "      <td>9</td>\n",
       "      <td>0</td>\n",
       "      <td>2</td>\n",
       "      <td>11</td>\n",
       "    </tr>\n",
       "    <tr>\n",
       "      <th>Variability in Ultra-cool dwarf stars/Brown dwarfs : Population</th>\n",
       "      <td>4</td>\n",
       "      <td>0</td>\n",
       "      <td>1</td>\n",
       "      <td>12</td>\n",
       "    </tr>\n",
       "  </tbody>\n",
       "</table>\n",
       "</div>"
      ],
      "text/plain": [
       "                                                   good  reach will  \\\n",
       "tf                                                                    \n",
       "DDT and Minisurvey proposals planning : task force   25      2   32   \n",
       "Review variability characterization parameters ...   16      2   14   \n",
       "Stellar variability in crowded fields : This in...   26      1   12   \n",
       "Actively work on the TVS roadmap : each              26      0    8   \n",
       "Characterize the functionality needed from a co...   18      2    7   \n",
       "Target of Opportunities in the Multi-messenger ...   14      0    7   \n",
       "Weighting/priority for different classes of var...   24      2    6   \n",
       "Fast Transients: GRB, GW,.... may need specific...   14      0    5   \n",
       "Generate a TVS specific set of tutorials for         26      2    4   \n",
       "A one night movie of LMC: A highly                   12      1    3   \n",
       "Galactic Compact Object Binaries (COBi): optimi...    9      0    2   \n",
       "Variability in Ultra-cool dwarf stars/Brown dwa...    4      0    1   \n",
       "\n",
       "                                                    goodnessRank  \n",
       "tf                                                                \n",
       "DDT and Minisurvey proposals planning : task force             4  \n",
       "Review variability characterization parameters ...             7  \n",
       "Stellar variability in crowded fields : This in...             2  \n",
       "Actively work on the TVS roadmap : each                        3  \n",
       "Characterize the functionality needed from a co...             6  \n",
       "Target of Opportunities in the Multi-messenger ...             9  \n",
       "Weighting/priority for different classes of var...             5  \n",
       "Fast Transients: GRB, GW,.... may need specific...             8  \n",
       "Generate a TVS specific set of tutorials for                   1  \n",
       "A one night movie of LMC: A highly                            10  \n",
       "Galactic Compact Object Binaries (COBi): optimi...            11  \n",
       "Variability in Ultra-cool dwarf stars/Brown dwa...            12  "
      ]
     },
     "execution_count": 14,
     "metadata": {},
     "output_type": "execute_result"
    }
   ],
   "source": [
    "resDF.sort_values(\"will\", ascending=False)"
   ]
  },
  {
   "cell_type": "markdown",
   "metadata": {
    "run_control": {
     "frozen": false,
     "read_only": false
    }
   },
   "source": [
    "# create a simple ranking algorithm: \n",
    "sum all values, weight good idea by 1/3, reach by 2. this leaves taks forces where most people have volunteered at the top, and pulls 2 with fewer people but broad reach out of the rest"
   ]
  },
  {
   "cell_type": "code",
   "execution_count": 15,
   "metadata": {
    "ExecuteTime": {
     "end_time": "2018-02-03T13:48:54.916427",
     "start_time": "2018-02-03T13:48:54.910491"
    },
    "collapsed": true,
    "run_control": {
     "frozen": false,
     "read_only": false
    }
   },
   "outputs": [],
   "source": [
    "resDF[\"score\"] = resDF[\"good\"] * 0.3 + resDF[\"will\"] + resDF[\"reach\"] * 2"
   ]
  },
  {
   "cell_type": "code",
   "execution_count": 16,
   "metadata": {
    "ExecuteTime": {
     "end_time": "2018-02-03T13:48:54.957190",
     "start_time": "2018-02-03T13:48:54.918708"
    },
    "collapsed": false,
    "run_control": {
     "frozen": false,
     "read_only": false
    }
   },
   "outputs": [
    {
     "data": {
      "text/html": [
       "<div>\n",
       "<table border=\"1\" class=\"dataframe\">\n",
       "  <thead>\n",
       "    <tr style=\"text-align: right;\">\n",
       "      <th></th>\n",
       "      <th>good</th>\n",
       "      <th>reach</th>\n",
       "      <th>will</th>\n",
       "      <th>goodnessRank</th>\n",
       "      <th>score</th>\n",
       "    </tr>\n",
       "    <tr>\n",
       "      <th>tf</th>\n",
       "      <th></th>\n",
       "      <th></th>\n",
       "      <th></th>\n",
       "      <th></th>\n",
       "      <th></th>\n",
       "    </tr>\n",
       "  </thead>\n",
       "  <tbody>\n",
       "    <tr>\n",
       "      <th>DDT and Minisurvey proposals planning : task force</th>\n",
       "      <td>25</td>\n",
       "      <td>2</td>\n",
       "      <td>32</td>\n",
       "      <td>4</td>\n",
       "      <td>43.5</td>\n",
       "    </tr>\n",
       "    <tr>\n",
       "      <th>Review variability characterization parameters planned for the Level</th>\n",
       "      <td>16</td>\n",
       "      <td>2</td>\n",
       "      <td>14</td>\n",
       "      <td>7</td>\n",
       "      <td>22.8</td>\n",
       "    </tr>\n",
       "    <tr>\n",
       "      <th>Stellar variability in crowded fields : This includes</th>\n",
       "      <td>26</td>\n",
       "      <td>1</td>\n",
       "      <td>12</td>\n",
       "      <td>2</td>\n",
       "      <td>21.8</td>\n",
       "    </tr>\n",
       "    <tr>\n",
       "      <th>Weighting/priority for different classes of variable/transients for Minisurvey</th>\n",
       "      <td>24</td>\n",
       "      <td>2</td>\n",
       "      <td>6</td>\n",
       "      <td>5</td>\n",
       "      <td>17.2</td>\n",
       "    </tr>\n",
       "    <tr>\n",
       "      <th>Characterize the functionality needed from a community-broker interface</th>\n",
       "      <td>18</td>\n",
       "      <td>2</td>\n",
       "      <td>7</td>\n",
       "      <td>6</td>\n",
       "      <td>16.4</td>\n",
       "    </tr>\n",
       "    <tr>\n",
       "      <th>Generate a TVS specific set of tutorials for</th>\n",
       "      <td>26</td>\n",
       "      <td>2</td>\n",
       "      <td>4</td>\n",
       "      <td>1</td>\n",
       "      <td>15.8</td>\n",
       "    </tr>\n",
       "    <tr>\n",
       "      <th>Actively work on the TVS roadmap : each</th>\n",
       "      <td>26</td>\n",
       "      <td>0</td>\n",
       "      <td>8</td>\n",
       "      <td>3</td>\n",
       "      <td>15.8</td>\n",
       "    </tr>\n",
       "    <tr>\n",
       "      <th>Target of Opportunities in the Multi-messenger GW era:</th>\n",
       "      <td>14</td>\n",
       "      <td>0</td>\n",
       "      <td>7</td>\n",
       "      <td>9</td>\n",
       "      <td>11.2</td>\n",
       "    </tr>\n",
       "    <tr>\n",
       "      <th>Fast Transients: GRB, GW,.... may need specific attention,</th>\n",
       "      <td>14</td>\n",
       "      <td>0</td>\n",
       "      <td>5</td>\n",
       "      <td>8</td>\n",
       "      <td>9.2</td>\n",
       "    </tr>\n",
       "    <tr>\n",
       "      <th>A one night movie of LMC: A highly</th>\n",
       "      <td>12</td>\n",
       "      <td>1</td>\n",
       "      <td>3</td>\n",
       "      <td>10</td>\n",
       "      <td>8.6</td>\n",
       "    </tr>\n",
       "    <tr>\n",
       "      <th>Galactic Compact Object Binaries (COBi): optimizing cadencing strategies</th>\n",
       "      <td>9</td>\n",
       "      <td>0</td>\n",
       "      <td>2</td>\n",
       "      <td>11</td>\n",
       "      <td>4.7</td>\n",
       "    </tr>\n",
       "    <tr>\n",
       "      <th>Variability in Ultra-cool dwarf stars/Brown dwarfs : Population</th>\n",
       "      <td>4</td>\n",
       "      <td>0</td>\n",
       "      <td>1</td>\n",
       "      <td>12</td>\n",
       "      <td>2.2</td>\n",
       "    </tr>\n",
       "  </tbody>\n",
       "</table>\n",
       "</div>"
      ],
      "text/plain": [
       "                                                   good  reach will  \\\n",
       "tf                                                                    \n",
       "DDT and Minisurvey proposals planning : task force   25      2   32   \n",
       "Review variability characterization parameters ...   16      2   14   \n",
       "Stellar variability in crowded fields : This in...   26      1   12   \n",
       "Weighting/priority for different classes of var...   24      2    6   \n",
       "Characterize the functionality needed from a co...   18      2    7   \n",
       "Generate a TVS specific set of tutorials for         26      2    4   \n",
       "Actively work on the TVS roadmap : each              26      0    8   \n",
       "Target of Opportunities in the Multi-messenger ...   14      0    7   \n",
       "Fast Transients: GRB, GW,.... may need specific...   14      0    5   \n",
       "A one night movie of LMC: A highly                   12      1    3   \n",
       "Galactic Compact Object Binaries (COBi): optimi...    9      0    2   \n",
       "Variability in Ultra-cool dwarf stars/Brown dwa...    4      0    1   \n",
       "\n",
       "                                                    goodnessRank score  \n",
       "tf                                                                      \n",
       "DDT and Minisurvey proposals planning : task force             4  43.5  \n",
       "Review variability characterization parameters ...             7  22.8  \n",
       "Stellar variability in crowded fields : This in...             2  21.8  \n",
       "Weighting/priority for different classes of var...             5  17.2  \n",
       "Characterize the functionality needed from a co...             6  16.4  \n",
       "Generate a TVS specific set of tutorials for                   1  15.8  \n",
       "Actively work on the TVS roadmap : each                        3  15.8  \n",
       "Target of Opportunities in the Multi-messenger ...             9  11.2  \n",
       "Fast Transients: GRB, GW,.... may need specific...             8   9.2  \n",
       "A one night movie of LMC: A highly                            10   8.6  \n",
       "Galactic Compact Object Binaries (COBi): optimi...            11   4.7  \n",
       "Variability in Ultra-cool dwarf stars/Brown dwa...            12   2.2  "
      ]
     },
     "execution_count": 16,
     "metadata": {},
     "output_type": "execute_result"
    }
   ],
   "source": [
    "resDF.sort_values(\"score\", ascending=False)"
   ]
  },
  {
   "cell_type": "markdown",
   "metadata": {
    "run_control": {
     "frozen": false,
     "read_only": false
    }
   },
   "source": [
    "# I propose to activate the top 5:\n"
   ]
  },
  {
   "cell_type": "code",
   "execution_count": 18,
   "metadata": {
    "ExecuteTime": {
     "end_time": "2018-02-03T13:49:10.841750",
     "start_time": "2018-02-03T13:49:10.831027"
    },
    "collapsed": false,
    "run_control": {
     "frozen": false,
     "read_only": false
    }
   },
   "outputs": [
    {
     "name": "stdout",
     "output_type": "stream",
     "text": [
      "DDT and Minisurvey proposals planning                                                       people participating: 32     good idea ranking: 4\n",
      "Review variability characterization parameters planned for the Level                        people participating: 14     good idea ranking: 7\n",
      "Stellar variability in crowded fields                                                       people participating: 12     good idea ranking: 2\n",
      "Weighting/priority for different classes of variable/transients for Minisurvey              people participating:  6     good idea ranking: 5\n",
      "Characterize the functionality needed from a community-broker interface                     people participating:  7     good idea ranking: 6\n"
     ]
    }
   ],
   "source": [
    "for tf in resDF.sort_values(\"score\", ascending=False).index[:5]:\n",
    "    print ('{0:80}            people participating: {1:2}     good idea ranking: {2}'.format(tf.split(\":\")[0], resDF.loc[tf, \"will\"],  resDF.loc[tf, \"goodnessRank\"]))"
   ]
  },
  {
   "cell_type": "markdown",
   "metadata": {
    "run_control": {
     "frozen": false,
     "read_only": false
    }
   },
   "source": [
    "the one that is left out which was thought to be a good idea, but had nobody willing to work on it, is the tutorials for MAF transients/variables (ranked 1 in \"good idea\") and the roadmap TF (ranked 3). The latter does not concern me: we will have chapter editors for that and Rachel and I as main editors."
   ]
  },
  {
   "cell_type": "markdown",
   "metadata": {},
   "source": [
    "# Teams"
   ]
  },
  {
   "cell_type": "code",
   "execution_count": 63,
   "metadata": {
    "ExecuteTime": {
     "end_time": "2018-02-03T18:21:18.817922",
     "start_time": "2018-02-03T18:21:18.792625"
    },
    "collapsed": false,
    "run_control": {
     "frozen": false,
     "read_only": false
    }
   },
   "outputs": [
    {
     "name": "stdout",
     "output_type": "stream",
     "text": [
      "DDT and Minisurvey proposals planning : task force aimed at identifying priorities and science cases to be included in fall 2018 Minisurvey DDT proposals \n",
      "\n",
      "\n",
      "melissalynngraham@gmail.com\n",
      "rszabo@konkoly.hu\n",
      "eamonn.kerins@manchester.ac.uk\n",
      "sbonito@astropa.unipa.it\n",
      "m.sullivan@soton.ac.uk\n",
      "vvillar@cfa.harvard.edu\n",
      "pbrown@physics.tamu.edu\n",
      "joshua.pepper@lehigh.edu\n",
      "kmhambleton@gmail.com\n",
      "giacomov@stanford.edu\n",
      "holz@uchicago.edu\n",
      "botticella@na.astro.it\n",
      "yongzhi.cai@oapd.inaf.it\n",
      "imoretti@na.astro.it\n",
      "moniez@lal.in2p3.fr\n",
      "eschmidt1@unl.edu\n",
      "soraisam@noao.edu\n",
      "rafmargutti@gmail.com\n",
      "mrabus@astro.puc.cl\n",
      "johann.cohentanugi@gmail.com\n",
      "raiteri@oato.inaf.it\n",
      "dammando@ira.inaf.it\n",
      "maribel@oato.inaf.it\n",
      "felice.cusano@oabo.inaf.it\n",
      "balmaverde@oato.inaf.it\n",
      "chiara.righi@brera.inaf.it\n",
      "alessia.garofalo@unibo.it\n",
      "gisella.clementini@oabo.inaf.it\n",
      "tatiana.muraveva@oabo.inaf.it\n",
      "massimo.dallora@oacn.inaf.it\n",
      "bono@roma2.infn.it\n",
      "giuliana.fiorentino@oabo.inaf.it\n"
     ]
    },
    {
     "name": "stderr",
     "output_type": "stream",
     "text": [
      "/anaconda/lib/python2.7/site-packages/ipykernel/__main__.py:6: VisibleDeprecationWarning: boolean index did not match indexed array along dimension 0; dimension is 50 but corresponding boolean dimension is 39\n"
     ]
    }
   ],
   "source": [
    "tf  = resDF.sort_values(\"score\", ascending=False)[0:1].index[0]\n",
    "actualtf = [c for c in responses.columns if c.startswith(tf)][0]\n",
    "team = np.array([\"I am willing to contribute\" in r for r in  responses[actualtf] if not isinstance(r, float)])\n",
    "team\n",
    "print (actualtf,\"\\n\\n\")\n",
    "for name in np.array(responses[\"Username\"].values)[team]:\n",
    "    print (name)\n"
   ]
  },
  {
   "cell_type": "code",
   "execution_count": 66,
   "metadata": {
    "ExecuteTime": {
     "end_time": "2018-02-03T18:21:54.939318",
     "start_time": "2018-02-03T18:21:54.922891"
    },
    "collapsed": false
   },
   "outputs": [
    {
     "name": "stdout",
     "output_type": "stream",
     "text": [
      "Review variability characterization parameters planned for the Level 1 and Level 2 LSST catalogs : e.g., see ls.st/dpdd: Table 3, Section 4.3.1, Table 5; ls.st/ldm-151 Section 6.21 \n",
      "\n",
      "\n",
      "rszabo@konkoly.hu\n",
      "joshua.pepper@lehigh.edu\n",
      "keivan.stassun@vanderbilt.edu\n",
      "aprsa@villanova.edu\n",
      "kmhambleton@gmail.com\n",
      "giacomov@stanford.edu\n",
      "rstreet@lco.global\n",
      "botticella@na.astro.it\n",
      "yongzhi.cai@oapd.inaf.it\n",
      "imoretti@na.astro.it\n",
      "moniez@lal.in2p3.fr\n",
      "eschmidt1@unl.edu\n",
      "soraisam@noao.edu\n",
      "johann.cohentanugi@gmail.com\n"
     ]
    },
    {
     "name": "stderr",
     "output_type": "stream",
     "text": [
      "/anaconda/lib/python2.7/site-packages/ipykernel/__main__.py:6: VisibleDeprecationWarning: boolean index did not match indexed array along dimension 0; dimension is 50 but corresponding boolean dimension is 25\n"
     ]
    }
   ],
   "source": [
    "tf  = resDF.sort_values(\"score\", ascending=False)[1:2].index[0]\n",
    "actualtf = [c for c in responses.columns if c.startswith(tf)][0]\n",
    "team = np.array([\"I am willing to contribute\" in r for r in  responses[actualtf] if not isinstance(r, float)])\n",
    "team\n",
    "print (actualtf,\"\\n\\n\")\n",
    "for name in np.array(responses[\"Username\"].values)[team]:\n",
    "    print (name)\n"
   ]
  },
  {
   "cell_type": "code",
   "execution_count": 67,
   "metadata": {
    "ExecuteTime": {
     "end_time": "2018-02-03T18:22:09.772219",
     "start_time": "2018-02-03T18:22:09.755622"
    },
    "collapsed": false
   },
   "outputs": [
    {
     "name": "stdout",
     "output_type": "stream",
     "text": [
      "Stellar variability in crowded fields : This includes a particular attention in planning observations and in making the data reduction. Note that there are similar task forces in other SCs as well (DESC, Galactic) \n",
      "\n",
      "\n",
      "joshua.pepper@lehigh.edu\n",
      "keivan.stassun@vanderbilt.edu\n",
      "kmhambleton@gmail.com\n",
      "holz@uchicago.edu\n",
      "rstreet@lco.global\n",
      "szkody@astro.washington.edu\n",
      "yongzhi.cai@oapd.inaf.it\n",
      "moniez@lal.in2p3.fr\n",
      "eschmidt1@unl.edu\n",
      "rafmargutti@gmail.com\n",
      "mrabus@astro.puc.cl\n",
      "raiteri@oato.inaf.it\n"
     ]
    },
    {
     "name": "stderr",
     "output_type": "stream",
     "text": [
      "/anaconda/lib/python2.7/site-packages/ipykernel/__main__.py:6: VisibleDeprecationWarning: boolean index did not match indexed array along dimension 0; dimension is 50 but corresponding boolean dimension is 28\n"
     ]
    }
   ],
   "source": [
    "tf  = resDF.sort_values(\"score\", ascending=False)[2:3].index[0]\n",
    "actualtf = [c for c in responses.columns if c.startswith(tf)][0]\n",
    "team = np.array([\"I am willing to contribute\" in r for r in  responses[actualtf] if not isinstance(r, float)])\n",
    "team\n",
    "print (actualtf,\"\\n\\n\")\n",
    "for name in np.array(responses[\"Username\"].values)[team]:\n",
    "    print (name)\n"
   ]
  },
  {
   "cell_type": "code",
   "execution_count": 68,
   "metadata": {
    "ExecuteTime": {
     "end_time": "2018-02-03T18:22:18.739424",
     "start_time": "2018-02-03T18:22:18.727381"
    },
    "collapsed": false
   },
   "outputs": [
    {
     "name": "stdout",
     "output_type": "stream",
     "text": [
      "Weighting/priority for different classes of variable/transients for Minisurvey design: Different cadences will favor science with some variables/transients over others. We need some sort of prioritization scheme to help design Minisurveys, but also for PLAsTiCC/broker design and roadmap paper. Connects with #2, #4. \n",
      "\n",
      "\n",
      "melissalynngraham@gmail.com\n",
      "rszabo@konkoly.hu\n",
      "eamonn.kerins@manchester.ac.uk\n",
      "aprsa@villanova.edu\n",
      "botticella@na.astro.it\n",
      "mrabus@astro.puc.cl\n"
     ]
    },
    {
     "name": "stderr",
     "output_type": "stream",
     "text": [
      "/anaconda/lib/python2.7/site-packages/ipykernel/__main__.py:6: VisibleDeprecationWarning: boolean index did not match indexed array along dimension 0; dimension is 50 but corresponding boolean dimension is 25\n"
     ]
    }
   ],
   "source": [
    "tf  = resDF.sort_values(\"score\", ascending=False)[3:4].index[0]\n",
    "actualtf = [c for c in responses.columns if c.startswith(tf)][0]\n",
    "team = np.array([\"I am willing to contribute\" in r for r in  responses[actualtf] if not isinstance(r, float)])\n",
    "team\n",
    "print (actualtf,\"\\n\\n\")\n",
    "for name in np.array(responses[\"Username\"].values)[team]:\n",
    "    print (name)\n"
   ]
  },
  {
   "cell_type": "code",
   "execution_count": 69,
   "metadata": {
    "ExecuteTime": {
     "end_time": "2018-02-03T18:22:27.849672",
     "start_time": "2018-02-03T18:22:27.834738"
    },
    "collapsed": false
   },
   "outputs": [
    {
     "name": "stdout",
     "output_type": "stream",
     "text": [
      "Characterize the functionality needed from a community-broker interface \n",
      "\n",
      "\n",
      "melissalynngraham@gmail.com\n",
      "teresa.giannini@oa-roma.inaf.it\n",
      "sbonito@astropa.unipa.it\n",
      "vvillar@cfa.harvard.edu\n",
      "pbrown@physics.tamu.edu\n",
      "kmhambleton@gmail.com\n",
      "imoretti@na.astro.it\n"
     ]
    },
    {
     "name": "stderr",
     "output_type": "stream",
     "text": [
      "/anaconda/lib/python2.7/site-packages/ipykernel/__main__.py:6: VisibleDeprecationWarning: boolean index did not match indexed array along dimension 0; dimension is 50 but corresponding boolean dimension is 19\n"
     ]
    }
   ],
   "source": [
    "tf  = resDF.sort_values(\"score\", ascending=False)[4:5].index[0]\n",
    "actualtf = [c for c in responses.columns if c.startswith(tf)][0]\n",
    "team = np.array([\"I am willing to contribute\" in r for r in  responses[actualtf] if not isinstance(r, float)])\n",
    "team\n",
    "print (actualtf,\"\\n\\n\")\n",
    "for name in np.array(responses[\"Username\"].values)[team]:\n",
    "    print (name)\n"
   ]
  },
  {
   "cell_type": "code",
   "execution_count": null,
   "metadata": {
    "collapsed": true
   },
   "outputs": [],
   "source": []
  }
 ],
 "metadata": {
  "anaconda-cloud": {},
  "kernelspec": {
   "display_name": "Python 3",
   "language": "python",
   "name": "python3"
  },
  "language_info": {
   "codemirror_mode": {
    "name": "ipython",
    "version": 2
   },
   "file_extension": ".py",
   "mimetype": "text/x-python",
   "name": "python",
   "nbconvert_exporter": "python",
   "pygments_lexer": "ipython2",
   "version": "2.7.12"
  },
  "toc": {
   "colors": {
    "hover_highlight": "#DAA520",
    "running_highlight": "#FF0000",
    "selected_highlight": "#FFD700"
   },
   "moveMenuLeft": true,
   "nav_menu": {
    "height": "12px",
    "width": "252px"
   },
   "navigate_menu": true,
   "number_sections": true,
   "sideBar": true,
   "threshold": 4,
   "toc_cell": false,
   "toc_section_display": "block",
   "toc_window_display": false
  }
 },
 "nbformat": 4,
 "nbformat_minor": 1
}
